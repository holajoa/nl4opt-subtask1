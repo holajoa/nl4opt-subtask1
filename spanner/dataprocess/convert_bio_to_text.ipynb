{
 "cells": [
  {
   "cell_type": "code",
   "execution_count": 1,
   "metadata": {},
   "outputs": [],
   "source": [
    "import os"
   ]
  },
  {
   "cell_type": "code",
   "execution_count": 8,
   "metadata": {},
   "outputs": [
    {
     "data": {
      "text/plain": [
       "'d:\\\\Develop\\\\nl4opt-subtask1\\\\spanner\\\\dataprocess'"
      ]
     },
     "execution_count": 8,
     "metadata": {},
     "output_type": "execute_result"
    }
   ],
   "source": [
    "os.getcwd()"
   ]
  },
  {
   "cell_type": "code",
   "execution_count": 20,
   "metadata": {},
   "outputs": [],
   "source": [
    "for fn in ['dev.txt', 'train.txt']:\n",
    "    file = os.path.join('../data/nl4opt_bio', fn)\n",
    "    out = []\n",
    "    sentence = []\n",
    "    with open(file, 'r', encoding='utf-8') as f:\n",
    "        lines = f.readlines()\n",
    "\n",
    "    for line in lines:\n",
    "        if not line.strip() or line.startswith('-DOC'):\n",
    "            if sentence:\n",
    "                out.append(' '.join(sentence))\n",
    "            sentence = []\n",
    "        else:\n",
    "            word = line.strip().split('\\t')[0]\n",
    "            sentence.append(word)\n",
    "            \n",
    "    if not os.path.exists('../data/nl4opt_raw'):\n",
    "        os.makedirs('../data/nl4opt_raw')\n",
    "    out_file = os.path.join('../data/nl4opt_raw', fn)\n",
    "    with open(out_file, 'a', encoding='utf-8') as f:\n",
    "        f.write('\\n'.join(out))"
   ]
  },
  {
   "cell_type": "code",
   "execution_count": 19,
   "metadata": {},
   "outputs": [],
   "source": []
  }
 ],
 "metadata": {
  "kernelspec": {
   "display_name": "Python 3.9.7 ('base')",
   "language": "python",
   "name": "python3"
  },
  "language_info": {
   "codemirror_mode": {
    "name": "ipython",
    "version": 3
   },
   "file_extension": ".py",
   "mimetype": "text/x-python",
   "name": "python",
   "nbconvert_exporter": "python",
   "pygments_lexer": "ipython3",
   "version": "3.9.7"
  },
  "orig_nbformat": 4,
  "vscode": {
   "interpreter": {
    "hash": "a00ee27610f32c85f79ed5e373564c9f619b69a11c8850d9e163fc2f2d45b575"
   }
  }
 },
 "nbformat": 4,
 "nbformat_minor": 2
}
