{
 "cells": [
  {
   "cell_type": "code",
   "execution_count": 2,
   "metadata": {},
   "outputs": [],
   "source": [
    "import os\n",
    "import pandas as pd"
   ]
  },
  {
   "cell_type": "code",
   "execution_count": 3,
   "metadata": {},
   "outputs": [],
   "source": [
    "raw_data_dir = '../data/domain-data/raw'\n",
    "\n",
    "domain_mapping = {\n",
    "    1:\"Society & Culture\", \n",
    "    2:\"Science & Mathematics\", \n",
    "    3:\"Health\", \n",
    "    4:\"Education & Reference\", \n",
    "    5:\"Computer & Internet\", \n",
    "    6:\"Sports\",\n",
    "    7:\"Business & Finance\", \n",
    "    8:\"Entertainment & Music\", \n",
    "    9:\"Family & Relationships\", \n",
    "    10:\"Politics & Government\",\n",
    "}"
   ]
  },
  {
   "cell_type": "code",
   "execution_count": 4,
   "metadata": {},
   "outputs": [
    {
     "data": {
      "text/html": [
       "<div>\n",
       "<style scoped>\n",
       "    .dataframe tbody tr th:only-of-type {\n",
       "        vertical-align: middle;\n",
       "    }\n",
       "\n",
       "    .dataframe tbody tr th {\n",
       "        vertical-align: top;\n",
       "    }\n",
       "\n",
       "    .dataframe thead th {\n",
       "        text-align: right;\n",
       "    }\n",
       "</style>\n",
       "<table border=\"1\" class=\"dataframe\">\n",
       "  <thead>\n",
       "    <tr style=\"text-align: right;\">\n",
       "      <th></th>\n",
       "      <th>label</th>\n",
       "      <th>title</th>\n",
       "      <th>content</th>\n",
       "      <th>answer</th>\n",
       "    </tr>\n",
       "  </thead>\n",
       "  <tbody>\n",
       "    <tr>\n",
       "      <th>0</th>\n",
       "      <td>5</td>\n",
       "      <td>why doesn't an optical mouse work on a glass t...</td>\n",
       "      <td>or even on some surfaces?</td>\n",
       "      <td>Optical mice use an LED and a camera to rapidl...</td>\n",
       "    </tr>\n",
       "    <tr>\n",
       "      <th>1</th>\n",
       "      <td>6</td>\n",
       "      <td>What is the best off-road motorcycle trail ?</td>\n",
       "      <td>long-distance trail throughout CA</td>\n",
       "      <td>i hear that the mojave road is amazing!&lt;br /&gt;\\...</td>\n",
       "    </tr>\n",
       "    <tr>\n",
       "      <th>2</th>\n",
       "      <td>3</td>\n",
       "      <td>What is Trans Fat? How to reduce that?</td>\n",
       "      <td>I heard that tras fat is bad for the body.  Wh...</td>\n",
       "      <td>Trans fats occur in manufactured foods during ...</td>\n",
       "    </tr>\n",
       "    <tr>\n",
       "      <th>3</th>\n",
       "      <td>7</td>\n",
       "      <td>How many planes Fedex has?</td>\n",
       "      <td>I heard that it is the largest airline in the ...</td>\n",
       "      <td>according to the www.fedex.com web site:\\nAir ...</td>\n",
       "    </tr>\n",
       "    <tr>\n",
       "      <th>4</th>\n",
       "      <td>7</td>\n",
       "      <td>In the san francisco bay area, does it make se...</td>\n",
       "      <td>the prices of rent and the price of buying doe...</td>\n",
       "      <td>renting vs buying depends on your goals. &lt;br /...</td>\n",
       "    </tr>\n",
       "  </tbody>\n",
       "</table>\n",
       "</div>"
      ],
      "text/plain": [
       "   label                                              title  \\\n",
       "0      5  why doesn't an optical mouse work on a glass t...   \n",
       "1      6       What is the best off-road motorcycle trail ?   \n",
       "2      3             What is Trans Fat? How to reduce that?   \n",
       "3      7                         How many planes Fedex has?   \n",
       "4      7  In the san francisco bay area, does it make se...   \n",
       "\n",
       "                                             content  \\\n",
       "0                          or even on some surfaces?   \n",
       "1                  long-distance trail throughout CA   \n",
       "2  I heard that tras fat is bad for the body.  Wh...   \n",
       "3  I heard that it is the largest airline in the ...   \n",
       "4  the prices of rent and the price of buying doe...   \n",
       "\n",
       "                                              answer  \n",
       "0  Optical mice use an LED and a camera to rapidl...  \n",
       "1  i hear that the mojave road is amazing!<br />\\...  \n",
       "2  Trans fats occur in manufactured foods during ...  \n",
       "3  according to the www.fedex.com web site:\\nAir ...  \n",
       "4  renting vs buying depends on your goals. <br /...  "
      ]
     },
     "execution_count": 4,
     "metadata": {},
     "output_type": "execute_result"
    }
   ],
   "source": [
    "train_file = os.path.join(raw_data_dir, 'train.csv')\n",
    "train = pd.read_csv(train_file, names=['label', 'title', 'content', 'answer'])\n",
    "train.head()"
   ]
  },
  {
   "cell_type": "code",
   "execution_count": 7,
   "metadata": {},
   "outputs": [
    {
     "name": "stderr",
     "output_type": "stream",
     "text": [
      "C:\\Users\\holaj\\AppData\\Local\\Temp\\ipykernel_19460\\3795890986.py:16: SettingWithCopyWarning: \n",
      "A value is trying to be set on a copy of a slice from a DataFrame.\n",
      "Try using .loc[row_indexer,col_indexer] = value instead\n",
      "\n",
      "See the caveats in the documentation: https://pandas.pydata.org/pandas-docs/stable/user_guide/indexing.html#returning-a-view-versus-a-copy\n",
      "  new_df['text'] = df.title + ' ' + df.content + ' ' + df.answer\n",
      "C:\\Users\\holaj\\AppData\\Local\\Temp\\ipykernel_19460\\3795890986.py:29: SettingWithCopyWarning: \n",
      "A value is trying to be set on a copy of a slice from a DataFrame.\n",
      "Try using .loc[row_indexer,col_indexer] = value instead\n",
      "\n",
      "See the caveats in the documentation: https://pandas.pydata.org/pandas-docs/stable/user_guide/indexing.html#returning-a-view-versus-a-copy\n",
      "  cleaned.text = cleaned.text.map(clean_text)\n",
      "C:\\Users\\holaj\\AppData\\Local\\Temp\\ipykernel_19460\\3795890986.py:16: SettingWithCopyWarning: \n",
      "A value is trying to be set on a copy of a slice from a DataFrame.\n",
      "Try using .loc[row_indexer,col_indexer] = value instead\n",
      "\n",
      "See the caveats in the documentation: https://pandas.pydata.org/pandas-docs/stable/user_guide/indexing.html#returning-a-view-versus-a-copy\n",
      "  new_df['text'] = df.title + ' ' + df.content + ' ' + df.answer\n",
      "C:\\Users\\holaj\\AppData\\Local\\Temp\\ipykernel_19460\\3795890986.py:29: SettingWithCopyWarning: \n",
      "A value is trying to be set on a copy of a slice from a DataFrame.\n",
      "Try using .loc[row_indexer,col_indexer] = value instead\n",
      "\n",
      "See the caveats in the documentation: https://pandas.pydata.org/pandas-docs/stable/user_guide/indexing.html#returning-a-view-versus-a-copy\n",
      "  cleaned.text = cleaned.text.map(clean_text)\n"
     ]
    }
   ],
   "source": [
    "import re\n",
    "\n",
    "def clean_text(text):\n",
    "    text = text.replace('\\n', '')\n",
    "    text = text.replace('\\\\n', '')\n",
    "    text = text.replace('<br />', ' ')\n",
    "    text = re.sub('((http|ftp|https)\\:\\/\\/)?([\\w_-]+(?:(?:\\.[\\w_-]+)+))([\\w.,@?^=%&:/~+#-]*[\\w@?^=%&/~+#-])?', '', text)\n",
    "    text = text.replace('()', '')\n",
    "    return text\n",
    "\n",
    "def get_text(df):\n",
    "    title = df.title\n",
    "    content = df.content\n",
    "    answer = df.answer\n",
    "    new_df = df[['label']]\n",
    "    new_df['text'] = df.title + ' ' + df.content + ' ' + df.answer\n",
    "    new_df = new_df[~pd.isna(new_df.text)]\n",
    "    return new_df\n",
    "\n",
    "def save_domain_texts(df, dir='../data/domain-data/cleaned/'):\n",
    "    assert (df.label == df.label.values[0]).sum() == len(df)\n",
    "    label = domain_mapping[df.label.values[0]]\n",
    "    with open(os.path.join(dir, label.replace(' & ', '_')+'.txt'), 'a', encoding='utf-8') as f:\n",
    "        f.write('\\n'.join(df.text.values))\n",
    "\n",
    "for class_idx in [2, 7]:\n",
    "    train_slice = train[train.label == class_idx]\n",
    "    cleaned = get_text(train_slice)\n",
    "    cleaned.text = cleaned.text.map(clean_text)\n",
    "    save_domain_texts(cleaned)"
   ]
  }
 ],
 "metadata": {
  "kernelspec": {
   "display_name": "Python 3.9.13 ('nl4opt-holajoa')",
   "language": "python",
   "name": "python3"
  },
  "language_info": {
   "codemirror_mode": {
    "name": "ipython",
    "version": 3
   },
   "file_extension": ".py",
   "mimetype": "text/x-python",
   "name": "python",
   "nbconvert_exporter": "python",
   "pygments_lexer": "ipython3",
   "version": "3.9.13"
  },
  "orig_nbformat": 4,
  "vscode": {
   "interpreter": {
    "hash": "84a35194ff216313c76cfc2da7143b81382f9a7e4b02afa172ae3ab9d741be5a"
   }
  }
 },
 "nbformat": 4,
 "nbformat_minor": 2
}
