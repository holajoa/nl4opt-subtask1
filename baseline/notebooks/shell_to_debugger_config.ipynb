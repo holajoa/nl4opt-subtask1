{
 "cells": [
  {
   "cell_type": "code",
   "execution_count": 1,
   "metadata": {},
   "outputs": [
    {
     "name": "stdout",
     "output_type": "stream",
     "text": [
      "\"#!/bin/bash\", \"\", \"#\", \"Using\", \"conda\", \"within\", \"a\", \"shell\", \"script\", \"source\", \"~/miniconda3/etc/profile.d/conda.sh\", \"\", \"yes\", \"|\", \"conda\", \"create\", \n",
      "\"--name\", \"nl4opt-holajoa\", \"python=3.9.12\", \"conda\", \"activate\", \"nl4opt-holajoa\", \"\", \"\", \"#\", \"Ensure\", \"the\", \"correct\", \"interpreter\", \"is\", \"executed\", \"echo\", \"$(which\", \"python)\", \"echo\", \"$(which\", \"pip)\", \"\", \"\", \"#\", \"Install\", \"all\", \"other\", \"dependencies\", \"pip\", \"install\", \n",
      "\"--no-cache-dir\", \n",
      "\"--ignore-installed\", \"-r\", \"requirements.txt\", \"\", \"#\", \"Upgrade\", \"Pytorch\", \"for\", \"CUDA\", \"11.5\", \"pip\", \"install\", \n",
      "\"--upgrade\", \n",
      "\"--force-reinstall\", \"torch==1.11.0+cu115\", \"torchvision\", \"torchaudio\", \"\", \"#\", \"Evaluate\", \"trained\", \"model\", \"on\", \"test\", \"set\", \"and\", \"print\", \"results\", \"to\", \"\"results.out\"\", \"python\", \"evaluate.py\", \n",
      "\"--test\", \"./test.txt\", \n",
      "\"--out_dir\", \"./trained_model\", \n",
      "\"--model_name\", \"roberta_squad2_final\", \n",
      "\"--gpus\", \"1\", \n",
      "\"--encoder_model\", \"deepset/roberta-base-squad2\", \n",
      "\"--batch_size\", \"32\", \n",
      "\"--model\", \"./trained_model/roberta_squad2_lr_2e-5/lightning_logs/version_0\", \n",
      "\"--max_length\", \"128\"\n"
     ]
    }
   ],
   "source": [
    "with open('../shell/evaluate_submission.sh', 'r') as f:\n",
    "    lines = f.readlines()\n",
    "lines = [line.strip() for line in lines]\n",
    "lines = [line[:-2] if line.endswith(' \\\\') else line for line in lines]\n",
    "lines = [line.split(' ') for line in lines]\n",
    "lines = ', '.join([\"\\n\\\"\"+s+\"\\\"\" if s[:2] == '--' else \"\\\"\"+s+\"\\\"\" for l in lines for s in l])\n",
    "print(lines)"
   ]
  },
  {
   "cell_type": "code",
   "execution_count": null,
   "metadata": {},
   "outputs": [],
   "source": []
  }
 ],
 "metadata": {
  "kernelspec": {
   "display_name": "Python 3.9.7 ('base')",
   "language": "python",
   "name": "python3"
  },
  "language_info": {
   "codemirror_mode": {
    "name": "ipython",
    "version": 3
   },
   "file_extension": ".py",
   "mimetype": "text/x-python",
   "name": "python",
   "nbconvert_exporter": "python",
   "pygments_lexer": "ipython3",
   "version": "3.9.7"
  },
  "orig_nbformat": 4,
  "vscode": {
   "interpreter": {
    "hash": "a00ee27610f32c85f79ed5e373564c9f619b69a11c8850d9e163fc2f2d45b575"
   }
  }
 },
 "nbformat": 4,
 "nbformat_minor": 2
}
