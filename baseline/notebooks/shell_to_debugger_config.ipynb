{
 "cells": [
  {
   "cell_type": "code",
   "execution_count": 5,
   "metadata": {},
   "outputs": [
    {
     "name": "stdout",
     "output_type": "stream",
     "text": [
      "\"CUDA_LAUNCH_BLOCKING=1\", \"python\", \"predict_tags.py\", \n",
      "\"--test\", \"../data/dev/dev.txt\", \n",
      "\"--out_dir\", \"./trained_model\", \n",
      "\"--model_name\", \"roberta_squad2_final\", \n",
      "\"--gpus\", \"0\", \n",
      "\"--cuda\", \"cpu\", \n",
      "\"--encoder_model\", \"deepset/roberta-base-squad2\", \n",
      "\"--batch_size\", \"16\", \n",
      "\"--model\", \"./trained_model/roberta_squad2_lr_2e-5/lightning_logs/version_0\", \n",
      "\"--max_length\", \"200\"\n"
     ]
    }
   ],
   "source": [
    "with open('../shell/predict.sh', 'r') as f:\n",
    "    lines = f.readlines()\n",
    "lines = [line.strip() for line in lines]\n",
    "lines = [line[:-2] if line.endswith(' \\\\') else line for line in lines]\n",
    "lines = [line.split(' ') for line in lines]\n",
    "lines = ', '.join([\"\\n\\\"\"+s+\"\\\"\" if s[:2] == '--' else \"\\\"\"+s+\"\\\"\" for l in lines for s in l])\n",
    "print(lines)"
   ]
  },
  {
   "cell_type": "code",
   "execution_count": null,
   "metadata": {},
   "outputs": [],
   "source": []
  }
 ],
 "metadata": {
  "kernelspec": {
   "display_name": "Python 3.9.12 ('nl4opt-holajoa')",
   "language": "python",
   "name": "python3"
  },
  "language_info": {
   "codemirror_mode": {
    "name": "ipython",
    "version": 3
   },
   "file_extension": ".py",
   "mimetype": "text/x-python",
   "name": "python",
   "nbconvert_exporter": "python",
   "pygments_lexer": "ipython3",
   "version": "3.9.13"
  },
  "orig_nbformat": 4,
  "vscode": {
   "interpreter": {
    "hash": "84a35194ff216313c76cfc2da7143b81382f9a7e4b02afa172ae3ab9d741be5a"
   }
  }
 },
 "nbformat": 4,
 "nbformat_minor": 2
}
